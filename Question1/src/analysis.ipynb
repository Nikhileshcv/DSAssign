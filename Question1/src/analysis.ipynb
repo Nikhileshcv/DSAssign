{
 "cells": [
  {
   "cell_type": "markdown",
   "metadata": {},
   "source": [
    "# Analysis Notebook"
   ]
  },
  {
   "cell_type": "code",
   "execution_count": null,
   "metadata": {},
   "outputs": [],
   "source": [
    "import pandas as pd\n",
    "df = pd.read_csv('../dataClean/cleaned_data.csv')\n",
    "\n",
    "df = pd.read_csv(raw_data_path,encoding = 'unicode_escape')\n",
    "print(df.head())\n",
    "\n",
    "df_obj = df.select_dtypes(['object'])\n",
    "df[df_obj.columns] = df_obj.apply(lambda x: x.str.strip())\n",
    "df.columns = df.columns.str.strip()\n",
    "     \n",
    "\n",
    "df[\"Fraility\"]=df[\"Fraility\"].map({'Y': 1, 'N': 0})\n",
    "print(df.head())\n",
    "\n",
    "df.dropna(inplace=True)\n",
    "\n",
    "df[\"Grip_strength_pounds\"] = df[\"Grip Strength\"].astype(float) * 2.20462\n",
    "print(df.groupby('Frailty')['GripStrength'].mean())"
   ]
  }
 ],
 "metadata": {
  "kernelspec": {
   "display_name": "Python 3",
   "name": "python3"
  },
  "language_info": {
   "name": "python"
  }
 },
 "nbformat": 4,
 "nbformat_minor": 5
}
