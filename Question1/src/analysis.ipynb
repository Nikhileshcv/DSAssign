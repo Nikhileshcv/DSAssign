{
 "cells": [
  {
   "cell_type": "markdown",
   "metadata": {},
   "source": ["# Analysis Notebook"]
  },
  {
   "cell_type": "code",
   "metadata": {},
   "source": [
    "import pandas as pd\n",
    "df = pd.read_csv('../dataClean/cleaned_data.csv')\n",
    "print(df.groupby('Frailty')['GripStrength'].mean())"
   ]
  }
 ],
 "metadata": {
  "kernelspec": {"name": "python3", "display_name": "Python 3"},
  "language_info": {"name": "python"}
 },
 "nbformat": 4,
 "nbformat_minor": 5
}